{
 "cells": [
  {
   "cell_type": "markdown",
   "metadata": {},
   "source": [
    "# MAV104 HT21: CTD practice"
   ]
  },
  {
   "cell_type": "markdown",
   "metadata": {},
   "source": [
    "The dataset you are going to work with consists of CTD data collected along a transect just west of Gibraltar (see map). In this area, water masses can be clearly distinguished based on their characteristic temperature and salinity. An example of such a water mass is the Mediterranean Outflow Water originating in the Mediterranean. This water is characterized by high salinity and relatively high temperature."
   ]
  },
  {
   "cell_type": "markdown",
   "metadata": {},
   "source": [
    "\n",
    "<img src=\"map_mav104.png\" style=\"height:500px\">"
   ]
  },
  {
   "cell_type": "markdown",
   "metadata": {},
   "source": [
    "## Preparation"
   ]
  },
  {
   "cell_type": "markdown",
   "metadata": {},
   "source": [
    "##### 1. Download the data from canvas and upload to the server:"
   ]
  },
  {
   "cell_type": "markdown",
   "metadata": {},
   "source": [
    "The data files are available on Canvas under Filer -> Föreläsningar --> Datorövning-CTD--> Exercise_data. Download all the data files and save them on your computer. You must upload all files to the JupyterHub server to work with them in Jupyter Notebook. You do this by clicking on the button with an upward arrow (Upload Files) above the file manager in the left toolbar. Put the 18 text files in a separate folder (ie not together with the Excel file).\n",
    "\n",
    "The file names of the .txt indicate the positions (latitude and longitude) of the CTD casts. The Excel document contains data from all 18 casts, compiled so that each sheet in the document contains all data for a parameter. Each column contains data from a profile. The first row on each sheet indicates the station number and the two following rows indicate latitude respectively longitude of the cast. The first column indicates the depth of the data points on each row.\n"
   ]
  },
  {
   "cell_type": "markdown",
   "metadata": {},
   "source": [
    "When you run Python on a web server, it is always good to ensure that the libraries you need are installed. A library is a collection of functions that you can call in Python to perform specific information. These libraries are often grouped by theme, subject or purpose."
   ]
  },
  {
   "cell_type": "markdown",
   "metadata": {},
   "source": [
    "##### 2. Install and load the libraries"
   ]
  },
  {
   "cell_type": "markdown",
   "metadata": {},
   "source": [
    "Install the following three libraries with **! pip install command**:\n",
    "   1. **matplotlib**: A collection of tools for creating line graphs, scatter plots, and outlines many other types of figures. It uses almost the same language as in MATLABs plotting commands.\n",
    "   2. **pandas**: A toolkit that allows you to work with data tables.\n",
    "   3. **numpy**: A numeric toolbox that gives you access to millions of maths functions, from simple averaging to highly advanced tools for curve fitting.\n",
    "    \n",
    "The three listed libraries are installed with the command line: \n",
    "\n",
    ">$\\color{red}{\\text{! pip install matplotlib pandas numpy}}$"
   ]
  },
  {
   "cell_type": "code",
   "execution_count": null,
   "metadata": {},
   "outputs": [],
   "source": []
  },
  {
   "cell_type": "markdown",
   "metadata": {},
   "source": [
    "Load the libraries (pandas , numpy and the tool collection pyplot from matplotlib) and rename them to short, accepted \"Nickname\" in two or three letters which simplifies the coding. You will probably copy and paste the three command lines below every Jupyter Notebook you ever create.\n",
    "\n",
    ">$\\color{red}{\\text{import pandas as pd}}$\n",
    ">\n",
    ">$\\color{red}{\\text{import numpy as np}}$\n",
    ">\n",
    ">$\\color{red}{\\text{import matplotlib.pyplot as plt}}$"
   ]
  },
  {
   "cell_type": "code",
   "execution_count": null,
   "metadata": {},
   "outputs": [],
   "source": []
  },
  {
   "cell_type": "markdown",
   "metadata": {},
   "source": [
    "##### 3. Preparation for visualization. Set a default figure size."
   ]
  },
  {
   "cell_type": "markdown",
   "metadata": {},
   "source": [
    "To set a default figure size for figures created with matplotlib to 20 × 10 cm (width × length) which is desirable as they will otherwise be a bit small, use: \n",
    "\n",
    ">$\\color{red}{\\text{plt.rcParams [\"figure.figsize\"] = (20,10)}}$\n"
   ]
  },
  {
   "cell_type": "code",
   "execution_count": null,
   "metadata": {},
   "outputs": [],
   "source": []
  },
  {
   "cell_type": "markdown",
   "metadata": {},
   "source": [
    "When you are done with the preparations, you can move on to the exercises. I give you step-by-step descriptions of how they can be solved. However, these instructions are suggestions only and the focus is not on nice coding, but rather on introducing you to CTD data and some simple, useful tools in Python."
   ]
  },
  {
   "cell_type": "markdown",
   "metadata": {},
   "source": [
    "----"
   ]
  },
  {
   "cell_type": "markdown",
   "metadata": {},
   "source": [
    "## Exercise 1: CTD profiles"
   ]
  },
  {
   "cell_type": "markdown",
   "metadata": {},
   "source": [
    "$\\color{blue}{\\text{Goal}}$: Visualize the data in three separate line graphs, one each for temperature, salinity and oxygen."
   ]
  },
  {
   "cell_type": "markdown",
   "metadata": {},
   "source": [
    "Let's start with the basics... loading only **one** CTD profile!\n",
    "\n",
    "You load data from a selected text file$^{TIP}$ with (suggested) the pandas (renamed as pd) function read_table and save it in a data table with the desired name (eg. $\\color{red}{\\text{data_table = pd.read_table(' path ')}}$)\n",
    "\n",
    "$^{TIP}$The path to the file needs to be complete and include the file name. If you use Windows and copy the path from your file manager like this you need to replace all \\ for / in order for the path to be read. Note that text in Python is always written between single or double quotation marks (' or \")."
   ]
  },
  {
   "cell_type": "markdown",
   "metadata": {},
   "source": [
    "#### 4. Load the first CTD profile:"
   ]
  },
  {
   "cell_type": "code",
   "execution_count": null,
   "metadata": {},
   "outputs": [],
   "source": []
  },
  {
   "cell_type": "markdown",
   "metadata": {},
   "source": [
    "Take a look at the data table you have created. How what does it look like and what does it contain? What type of data is in which column?"
   ]
  },
  {
   "cell_type": "markdown",
   "metadata": {},
   "source": [
    "Now, let's select only one variable...for example **temperature**$^{TIP}$\n",
    "\n",
    "$^{TIP}$To extract data for a certain parameter (from a certain column), you write the name of the data table followed by the name of the parameter as it is named in the data table. The latter is written in brackets ([]). For example, if it is temperature data you want to access then write: $\\color{red}{\\text{data_table['Temperature [degC]']}}$"
   ]
  },
  {
   "cell_type": "markdown",
   "metadata": {},
   "source": [
    "####   5. Print only the temperature data from your first ctd profile:"
   ]
  },
  {
   "cell_type": "code",
   "execution_count": null,
   "metadata": {},
   "outputs": [],
   "source": []
  },
  {
   "cell_type": "markdown",
   "metadata": {},
   "source": [
    "and... we are ready to visualize it. You can view the vertical profiles of the various parameters with a so-called **line graphs**$^{TIP}$. To start, view the temperature data from your selected data file.\n",
    "\n",
    "\n",
    "$^{TIP}$**Some tips on line graphs:**\n",
    "\n",
    "*A line graph is created in Python using the plot function from the tool collection pyplot. When you call the function, you have to specify which parameters you want to display along the x-axis and the y-axis, respectively. You have previously renamed pyplot to plt , so to create a figure you use the command $\\color{red}{\\text{plt.plot ( x , y )}}$ where x in this case contains measured values for the parameter you want to display, and y contains the corresponding depth data. If you want to create a line graph that shows the vertical profile for your temperature data, type the command:*\n",
    "\n",
    ">$\\color{red}{\\text{plt.plot( data_table['Temperature [degC]'], data_table['Depth [m]'])}}$\n",
    "\n",
    "*When you show data from CTD casts in this way, it is usually shown with **depth increasing down in the figure**. Inversion of the y-axis is accomplished by adding the command: $\\color{red}{\\text{plt.gca().invert_yaxis()}}$. Commands that begin with plt.gca() are often used to modify properties / appearance in a figure (gca stands for \"get current axis\" and gives you access to the so-called axis object which really the whole drawing area including shoulders and shoulder labels etc).*\n",
    "\n",
    "*You can add labels to the axes with the $\\color{red}{\\text{plt.xlabel}}$ and $\\color{red}{\\text{plt.ylabel}}$ tools , respectively. The figure title is added with $\\color{red}{\\text{plt.title}}$. Text size can be adjusted by assigning the desired size to property fontSize. To add a label with a text size of 16 dots to the x-axis, use the following command line: plt.xlabel ('Temperature ($\\$$ ^ \\ circ $\\$$ C)', font size = 16). In a similar way, put a label on the y-axis and give a title to the figure. The strange text $\\$$ ^ \\ circ $\\$$' is used to write the degree (°) symbol. The syntax for different special characters is easy to find online. Properties such as text style can also be adjusted, but we will not go into this in further detail here.*\n",
    "\n",
    "#### 6. Plot a temperature vertical profile and take a few minutes to reflect on what the profile show:"
   ]
  },
  {
   "cell_type": "code",
   "execution_count": null,
   "metadata": {},
   "outputs": [],
   "source": []
  },
  {
   "cell_type": "markdown",
   "metadata": {},
   "source": [
    "#### 7. Now create separate figures for the three parameters **temperature, salinity** and **oxygen**.$^{TIP}$\n",
    "\n",
    "$^{TIP}$*To create several separate figures in the same cell in the Jupyter Notebook, you can add the line $\\color{red}{\\text{plt.show()}}$* after the plot command and any associated commands."
   ]
  },
  {
   "cell_type": "code",
   "execution_count": null,
   "metadata": {},
   "outputs": [],
   "source": []
  },
  {
   "cell_type": "markdown",
   "metadata": {},
   "source": [
    "The next step in this exercise will be to **add additional CTD profiles to your figures**. Test with 2 CTD casts to begin with. To do this, you start by loading data from an additional text file in the same way as you did with the first one. New data should be saved in new data tables with new names, otherwise they will overwrite the ones created earlier.\n",
    "\n",
    "#### 8. Load the second CTD profile:"
   ]
  },
  {
   "cell_type": "code",
   "execution_count": null,
   "metadata": {},
   "outputs": [],
   "source": []
  },
  {
   "cell_type": "markdown",
   "metadata": {},
   "source": [
    "To add the new profile to your figures, you can do in different ways. \n",
    "\n",
    "The more universal method is to repeatedly call the plot function. For example, to display two profiles in the same figure, you can write:\n",
    "\n",
    ">$\\color{red}{\\text{plt.plot ( x1 , y1 )}}$\n",
    ">\n",
    ">$\\color{red}{\\text{plt.plot ( x2 , y2 )}}$\n",
    ">\n",
    ">$+$ any associated commands (labels, title...)\n",
    ">\n",
    ">plt.show ()\n",
    "\n",
    "\n",
    "Now that there are several lines in the same figure, it is important to know which line represents which CTD cast. Automatically,the lines get different colors. However, to determine which color corresponds to which profile, additional information can be added to the plt.plot command. You can define the color yourself by adding:\n",
    "\n",
    ">plt.plot ( x1 , y1 , $\\color{red}{\\text{' color1 '}}$)\n",
    ">\n",
    ">plt.plot ( x2 , y2 , $\\color{red}{\\text{' color1 '}}$)\n",
    ">\n",
    ">etc.\n",
    "\n",
    "How different colors are written according to Python syntax, I leave it to you to find out.\n",
    "\n",
    "To tell the viewer what the different lines in a figure show, it is helpful to include a so-called legend in his figure. One way to do this is to add information about the lines in the plt.plot command and then add the plt.legend () command as:\n",
    "\n",
    ">plt.plot ( x1 , y1 , ' color1 ', $\\color{red}{\\text{label=' description1 '}})$\n",
    ">\n",
    ">plt.plot ( x2 , y2 , ' color2 ', $\\color{red}{\\text{label=' description2 '}})$\n",
    ">\n",
    ">*etc.*\n",
    ">\n",
    ">*Any associated commands*\n",
    ">\n",
    ">$\\color{red}{\\text{plt.legend ()}}$\n",
    ">\n",
    ">*plt.show ()*\n",
    "\n",
    "\n",
    "#### 9. Plot the 2 CTD temperature profiles in the same figure:"
   ]
  },
  {
   "cell_type": "code",
   "execution_count": null,
   "metadata": {},
   "outputs": [],
   "source": []
  },
  {
   "cell_type": "markdown",
   "metadata": {},
   "source": [
    "#### 10. Do the same with the 2 CTD salinity and oxygen profiles"
   ]
  },
  {
   "cell_type": "code",
   "execution_count": null,
   "metadata": {},
   "outputs": [],
   "source": []
  },
  {
   "cell_type": "markdown",
   "metadata": {},
   "source": [
    "When you have managed to draw several profiles in the same figure and include a legend, you can really add as many lines as you want. However, it is important to keep in mind that a figure will be difficult to read if it contains too much information.\n",
    "\n",
    "#### 11. Plot several profiles! "
   ]
  },
  {
   "cell_type": "code",
   "execution_count": null,
   "metadata": {},
   "outputs": [],
   "source": []
  },
  {
   "cell_type": "markdown",
   "metadata": {},
   "source": [
    "***Final tip!*** To save the figures in your computer, you have to add the following command just before the plt.show() in all the figures you have created:\n",
    ">$\\color{red}{\\text{plt.savefig('C:/..path..../FIGURE_NAME(.jpg/.png...your favourite format)')}}$"
   ]
  },
  {
   "cell_type": "markdown",
   "metadata": {},
   "source": [
    "Take a moment to look at the profiles you have drawn in your figures and reflect on what they are shows. What does the variation look like in the vertical and horizontal directions, respectively? Do you have any idea why they look like they do? Can you see signs that there is any Mediterranean Outflow Water in this area and if so, where is it?"
   ]
  },
  {
   "cell_type": "markdown",
   "metadata": {},
   "source": [
    "----"
   ]
  },
  {
   "cell_type": "markdown",
   "metadata": {},
   "source": [
    "## Exercise 2: Visualize the CTD transect - Section plots"
   ]
  },
  {
   "cell_type": "markdown",
   "metadata": {},
   "source": [
    "$\\color{blue}{\\text{Goal}}$: Use all available CTD data from the transect and visualize this as a two-dimensional surface with depth along the y-axis, latitude along the x-axis and colored it showing the values of the various parameters."
   ]
  },
  {
   "cell_type": "markdown",
   "metadata": {},
   "source": [
    "You will have to use the compiled data contained in the Excel document. Start by opening the document in Excel and see what it contains and how it is structured.\n",
    "\n",
    "Just like for the first exercise, you should start by loading the data. \n",
    "\n",
    "#### 12. You need to install the xlrd library to read the excel file using the next command:\n",
    ">$\\color{red}{\\text{! pip install xlrd}}$"
   ]
  },
  {
   "cell_type": "code",
   "execution_count": null,
   "metadata": {},
   "outputs": [],
   "source": []
  },
  {
   "cell_type": "markdown",
   "metadata": {},
   "source": [
    "Now you can load the data. An easy way to do it is with the pandas function read_excel. To load a specific worksheet from one Excel document and save it in a data table; you need to enter the path and the name of the worksheet you want to read data from.\n",
    "\n",
    ">$\\color{red}{\\text{data_table_ALL = pd.read_excel (' path ', ' worksheet ')}}$\n",
    "\n",
    "#### 13. Create data tables for each of the worksheets. Take a look at what these look like!"
   ]
  },
  {
   "cell_type": "code",
   "execution_count": null,
   "metadata": {},
   "outputs": [],
   "source": []
  },
  {
   "cell_type": "markdown",
   "metadata": {},
   "source": [
    "Now you have to create new data tables for the parameters **depth, latitude, temperature, salinity and oxygen**. $^{TIP}$\n",
    "\n",
    "HINT: The data tables for depth and latitudes will be one-dimensional while those for temperature, salinity and oxygen will be two-dimensional.\n",
    "\n",
    "$^{TIP}$ ***How to pick data from sections of a data table?***\n",
    "\n",
    "*You need to know which row (s) and column (s) containing the desired data. When you know that, you can retrieve data from the section with the indexing function iloc that belongs to the data table. This is done according to the pattern:*\n",
    "\n",
    ">$\\color{red}{\\text{section = data_table_ALL.iloc [ row index1 : row index2 , column index1 : column index2 ]}}$\n",
    "\n",
    "Along the vertical, the dimension is delimited by row index1 and row index2 while along the horizontal the dimension is delimited by column index1 and column index2.\n",
    "\n",
    "A little strange, though, is that the range includes start index but not end index, so the section will contain data from the row with index row index1 and the column with index column index1 but not from row and column with index row index2 and column index2, respectively. Last index included in the section is row index2 -1 and column index2 -1 respectively!\n",
    "\n",
    "You do not have to take this into account when you want to pick sections that extend to the end of your data tables. You can therefore omit row index2 and column index2 and use the command as follows:\n",
    "\n",
    ">$\\color{red}{\\text{section = data_table_ALL.iloc [ row index1 :, column index1 :]}}$\n",
    "\n",
    "And... if you want the section to only consist of a row or a column (to the end of each dimension as above) use:\n",
    ">$\\color{red}{\\text{section row = ddata_table_ALL.iloc [ row index , column index1 :]}}$\n",
    "\n",
    "or\n",
    "\n",
    ">$\\color{red}{\\text{section column = data_table_ALL.iloc [ row index1 :, column index ]}}$\n",
    "\n",
    "\n",
    "\n",
    "#### 14. Create new data tables for the parameters **depth, latitude, temperature, salinity and oxygen**."
   ]
  },
  {
   "cell_type": "code",
   "execution_count": null,
   "metadata": {},
   "outputs": [],
   "source": []
  },
  {
   "cell_type": "markdown",
   "metadata": {},
   "source": [
    "Time to visualize the transect data for each of the parameters! Create a figure for each of the three parameters temperature, salinity and oxygen, with latitude on the x axes and depth on the y axis.\n",
    "\n",
    "\n",
    "You can use the function contourf from the tool collection pyplot. This function takes data from a two-dimensional data table or matrix and visualizes it as a colored two-dimensional surface where the colors represents ranges of measured values.\n",
    "\n",
    ">$\\color{red}{\\text{plt.contourf ( x , y , data_table )}}$\n",
    "\n",
    "- x and y should in this case be your one-dimensional data tables with latitude and depth respectively.\n",
    "\n",
    "- As with the line graphs, it is advisable to invert the y-axis of these figures. \n",
    "\n",
    "To make this type of figure a little easier to interpret, it can be good to adjust the intervals that the colors represent. The values are adjusted by adding a numeric vector that contains the values that construct the interval limits. Such a vector with numerical values in ascending order is easily created with the arange tool from the numpy library: $\\color{red}{\\text{np.arange ( start value , end value , step length )}}$. This vector is then added to the contourf as:\n",
    "\n",
    "> plt.contourf ( x , y , data table , $\\color{red}{\\text{np.arange ( start value , end value , step length )}}$)\n",
    "\n",
    "For this type of figure, it is usually appropriate to also include a color scale. You do this by adding the command $\\color{red}{\\text{plt.colorbar ()}}$. To add a label to the color scale that indicates which parameter the colors show and in which unit, you give a so-called handle to the color scale. With such you can then refer to the object and use its functions. The handle is created: $\\color{red}{\\text{handle = plt.colorbar ()}}$. Then the label can be added to the object with the command: $\\color{red}{\\text{handle .set_label (' text ')}}$. The text size of the label is adjusted like other labels which are added to this figure on the same way as for the line graphs.\n",
    "\n",
    "Don't forget to add a title and x and y labels to the axis!\n",
    "\n",
    "#### 15. Create a figure for each of the three parameters  **temperature, salinity** and **oxygen**."
   ]
  },
  {
   "cell_type": "code",
   "execution_count": null,
   "metadata": {},
   "outputs": [],
   "source": []
  },
  {
   "cell_type": "markdown",
   "metadata": {},
   "source": [
    "Now that you have created nice colorful figures that show how the measured parameters vary along the transect (horizontally and vertically); I want you to think a bit again. What do your figures say about the distribution of the water masses along the transect? Where Mediterranean Outflow Water is most common and, could you say why?"
   ]
  },
  {
   "cell_type": "markdown",
   "metadata": {},
   "source": [
    "----"
   ]
  },
  {
   "cell_type": "markdown",
   "metadata": {},
   "source": [
    "## Exercise 3: T-S diagram"
   ]
  },
  {
   "cell_type": "markdown",
   "metadata": {},
   "source": [
    "$\\color{blue}{\\text{Goal}}$: Plot a T-S diagram. A common and useful way to show the presence and distribution of different bodies of water is a T-S diagram. This type of diagram shows measurement data as point clouds in a coordinate system with salinity on the x-axis and temperature on the y-axis. Often the dots are colored based on its depth where the respective measurement was made. Such a chart is easily created from CTD data."
   ]
  },
  {
   "cell_type": "markdown",
   "metadata": {},
   "source": [
    "You can choose to either create a TS chart with data from one of the CTD casts or from all 18. Regardless of which of the options you choose, you start, as before, by loading data and create variables for the required parameters. If you want to create a TS chart from one cast, you load data from one of the text files. If you want to use data from all the casts, read all of them and compile data from all the files$^{TIP}$. The latter option requires a little more programming but you will be guided through this."
   ]
  },
  {
   "cell_type": "markdown",
   "metadata": {},
   "source": [
    "Plotting instructions:\n",
    "\n",
    "If a file is used, the data is loaded as in exercise 1 and the TS diagram is then created with the scatter function in the tool collection pyplot. This function plots the data points as a point cloud with data points in specified x and y coordinates. In the present case, this is the case the x-coordinates of salinity values while the y-coordinates consist of the corresponding temperature values. The depths of the data points are represented by their color. Dots size you specify yourself and should be adapted to the size of the figure and the amount of data. When data is loaded and saved in the data table, the scatter plot is created with a command on the shape:\n",
    "plt.scatter ( x , y , dot size , color )\n",
    "Labels, title and color scale are added to the figure similarly in the previous tasks.\n",
    "\n",
    "\n",
    "$^{TIP}$ Load data for the T-S diagram with all CTD casts: \n",
    "*If you want to make a TS diagram based on all available CTD data, you need to start with that load data from all 18 text files. You do this by loading the files, one by one, in a so-called for-loop. However, the *os* library is used to import and create a list of all file names. This is done with the two command lines:*\n",
    "\n",
    ">$\\color{red}{\\text{import os}}$\n",
    ">\n",
    ">$\\color{red}{\\text{list of filenames = os.listdir ( ' path to folder with files ' )}}$\n",
    "\n",
    "*The library os provides access to functionalities in the computer's operating system while the function listdir lists all the files in the folder to which the specified path refers.*\n",
    "\n",
    "\n",
    "*In the next step, data can read from the files in the list and add to a data table with the command line:*\n",
    "\n",
    ">$\\color{red}{\\text{data_table = pd.concat (pd.read_table (' path to folder with files /' + filename) for filename the list of file names )}}$\n",
    "\n",
    "*The files in the list of file names are read one by one with the read_table function and set together (concatenated) with the concat function.*\n",
    "\n",
    "*A TS diagram can then be created with plt.scatter in the same way as for a single CTD cast, but now based on data in it\n",
    "composite data table.*"
   ]
  },
  {
   "cell_type": "markdown",
   "metadata": {},
   "source": [
    "#### 16. Load the necesary libraries, data and make a data table with the CTD casts."
   ]
  },
  {
   "cell_type": "code",
   "execution_count": null,
   "metadata": {},
   "outputs": [],
   "source": []
  },
  {
   "cell_type": "markdown",
   "metadata": {},
   "source": [
    "#### 17. Plot a T-S diagram colored by depth. Add a title, labels in the x and y axis and a colorbar with its label."
   ]
  },
  {
   "cell_type": "code",
   "execution_count": null,
   "metadata": {},
   "outputs": [],
   "source": []
  },
  {
   "cell_type": "markdown",
   "metadata": {},
   "source": [
    "Think about what your TS charts show. How to detect the presence of Mediterranean Outflow Water using this chart? And around the fold depth is the signal from this water as strongest?\n"
   ]
  },
  {
   "cell_type": "markdown",
   "metadata": {},
   "source": [
    "----"
   ]
  },
  {
   "cell_type": "markdown",
   "metadata": {},
   "source": [
    "### Good luck in the field and hope you benefit from what you practiced today! :) "
   ]
  }
 ],
 "metadata": {
  "kernelspec": {
   "display_name": "Python 3",
   "language": "python",
   "name": "python3"
  },
  "language_info": {
   "codemirror_mode": {
    "name": "ipython",
    "version": 3
   },
   "file_extension": ".py",
   "mimetype": "text/x-python",
   "name": "python",
   "nbconvert_exporter": "python",
   "pygments_lexer": "ipython3",
   "version": "3.7.3"
  }
 },
 "nbformat": 4,
 "nbformat_minor": 4
}
